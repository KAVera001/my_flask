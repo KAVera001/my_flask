{
 "cells": [
  {
   "cell_type": "markdown",
   "metadata": {},
   "source": [
    "# Logistic regression model"
   ]
  },
  {
   "cell_type": "markdown",
   "metadata": {},
   "source": [
    "## Table of Contents\n",
    "\n",
    "\n",
    "<div>\n",
    "\n",
    "1. [Data preparation and analysis](#0)<br>\n",
    "2. [Model Evaluation](#1)<br>\n",
    "3. [Predicting a gender for a random session_id](#2)<br>\n",
    "</div>\n",
    "<hr>\n"
   ]
  },
  {
   "cell_type": "markdown",
   "metadata": {},
   "source": [
    "## Data preparation and analysis <a id=\"0\"></a>"
   ]
  },
  {
   "cell_type": "code",
   "execution_count": 1,
   "metadata": {},
   "outputs": [],
   "source": [
    "import pandas as pd\n",
    "import numpy as np"
   ]
  },
  {
   "cell_type": "code",
   "execution_count": 4,
   "metadata": {},
   "outputs": [
    {
     "data": {
      "text/html": [
       "<div>\n",
       "<style scoped>\n",
       "    .dataframe tbody tr th:only-of-type {\n",
       "        vertical-align: middle;\n",
       "    }\n",
       "\n",
       "    .dataframe tbody tr th {\n",
       "        vertical-align: top;\n",
       "    }\n",
       "\n",
       "    .dataframe thead th {\n",
       "        text-align: right;\n",
       "    }\n",
       "</style>\n",
       "<table border=\"1\" class=\"dataframe\">\n",
       "  <thead>\n",
       "    <tr style=\"text-align: right;\">\n",
       "      <th></th>\n",
       "      <th>session_id</th>\n",
       "      <th>sequence_order</th>\n",
       "      <th>category_a</th>\n",
       "      <th>category_b</th>\n",
       "      <th>category_c</th>\n",
       "      <th>category_d</th>\n",
       "    </tr>\n",
       "  </thead>\n",
       "  <tbody>\n",
       "    <tr>\n",
       "      <th>0</th>\n",
       "      <td>u10001</td>\n",
       "      <td>1</td>\n",
       "      <td>A00001</td>\n",
       "      <td>B00001</td>\n",
       "      <td>C00001</td>\n",
       "      <td>D00001</td>\n",
       "    </tr>\n",
       "    <tr>\n",
       "      <th>1</th>\n",
       "      <td>u10002</td>\n",
       "      <td>1</td>\n",
       "      <td>A00002</td>\n",
       "      <td>B00002</td>\n",
       "      <td>C00002</td>\n",
       "      <td>D24897</td>\n",
       "    </tr>\n",
       "    <tr>\n",
       "      <th>2</th>\n",
       "      <td>u10003</td>\n",
       "      <td>1</td>\n",
       "      <td>A00002</td>\n",
       "      <td>B00002</td>\n",
       "      <td>C00002</td>\n",
       "      <td>D00002</td>\n",
       "    </tr>\n",
       "    <tr>\n",
       "      <th>3</th>\n",
       "      <td>u10003</td>\n",
       "      <td>2</td>\n",
       "      <td>A00002</td>\n",
       "      <td>B00002</td>\n",
       "      <td>C00003</td>\n",
       "      <td>D00003</td>\n",
       "    </tr>\n",
       "    <tr>\n",
       "      <th>4</th>\n",
       "      <td>u10003</td>\n",
       "      <td>3</td>\n",
       "      <td>A00002</td>\n",
       "      <td>B00002</td>\n",
       "      <td>C00007</td>\n",
       "      <td>D00007</td>\n",
       "    </tr>\n",
       "  </tbody>\n",
       "</table>\n",
       "</div>"
      ],
      "text/plain": [
       "  session_id  sequence_order category_a category_b category_c category_d\n",
       "0     u10001               1     A00001     B00001     C00001     D00001\n",
       "1     u10002               1     A00002     B00002     C00002     D24897\n",
       "2     u10003               1     A00002     B00002     C00002     D00002\n",
       "3     u10003               2     A00002     B00002     C00003     D00003\n",
       "4     u10003               3     A00002     B00002     C00007     D00007"
      ]
     },
     "execution_count": 4,
     "metadata": {},
     "output_type": "execute_result"
    }
   ],
   "source": [
    "pr_df = pd.read_csv('/Users/Vera/Downloads/product.csv')\n",
    "pr_df.head()"
   ]
  },
  {
   "cell_type": "code",
   "execution_count": 5,
   "metadata": {},
   "outputs": [
    {
     "data": {
      "text/html": [
       "<div>\n",
       "<style scoped>\n",
       "    .dataframe tbody tr th:only-of-type {\n",
       "        vertical-align: middle;\n",
       "    }\n",
       "\n",
       "    .dataframe tbody tr th {\n",
       "        vertical-align: top;\n",
       "    }\n",
       "\n",
       "    .dataframe thead th {\n",
       "        text-align: right;\n",
       "    }\n",
       "</style>\n",
       "<table border=\"1\" class=\"dataframe\">\n",
       "  <thead>\n",
       "    <tr style=\"text-align: right;\">\n",
       "      <th></th>\n",
       "      <th>session_id</th>\n",
       "      <th>start_time</th>\n",
       "      <th>end_time</th>\n",
       "      <th>gender</th>\n",
       "    </tr>\n",
       "  </thead>\n",
       "  <tbody>\n",
       "    <tr>\n",
       "      <th>0</th>\n",
       "      <td>u10001</td>\n",
       "      <td>2014-11-14 00:02:14</td>\n",
       "      <td>2014-11-14 00:02:20</td>\n",
       "      <td>female</td>\n",
       "    </tr>\n",
       "    <tr>\n",
       "      <th>1</th>\n",
       "      <td>u10002</td>\n",
       "      <td>2014-12-12 14:12:05</td>\n",
       "      <td>2014-12-12 14:12:06</td>\n",
       "      <td>female</td>\n",
       "    </tr>\n",
       "    <tr>\n",
       "      <th>2</th>\n",
       "      <td>u10003</td>\n",
       "      <td>2014-11-14 00:02:41</td>\n",
       "      <td>2014-11-14 00:16:40</td>\n",
       "      <td>female</td>\n",
       "    </tr>\n",
       "    <tr>\n",
       "      <th>3</th>\n",
       "      <td>u10004</td>\n",
       "      <td>2014-11-14 00:21:55</td>\n",
       "      <td>2014-11-14 00:21:57</td>\n",
       "      <td>female</td>\n",
       "    </tr>\n",
       "    <tr>\n",
       "      <th>4</th>\n",
       "      <td>u10005</td>\n",
       "      <td>2014-11-14 00:26:08</td>\n",
       "      <td>2014-11-14 00:29:25</td>\n",
       "      <td>female</td>\n",
       "    </tr>\n",
       "  </tbody>\n",
       "</table>\n",
       "</div>"
      ],
      "text/plain": [
       "  session_id           start_time             end_time  gender\n",
       "0     u10001  2014-11-14 00:02:14  2014-11-14 00:02:20  female\n",
       "1     u10002  2014-12-12 14:12:05  2014-12-12 14:12:06  female\n",
       "2     u10003  2014-11-14 00:02:41  2014-11-14 00:16:40  female\n",
       "3     u10004  2014-11-14 00:21:55  2014-11-14 00:21:57  female\n",
       "4     u10005  2014-11-14 00:26:08  2014-11-14 00:29:25  female"
      ]
     },
     "execution_count": 5,
     "metadata": {},
     "output_type": "execute_result"
    }
   ],
   "source": [
    "sn_df = pd.read_csv('/Users/Vera/Downloads/session.csv')\n",
    "sn_df.head()"
   ]
  },
  {
   "cell_type": "code",
   "execution_count": 6,
   "metadata": {},
   "outputs": [
    {
     "data": {
      "text/html": [
       "<div>\n",
       "<style scoped>\n",
       "    .dataframe tbody tr th:only-of-type {\n",
       "        vertical-align: middle;\n",
       "    }\n",
       "\n",
       "    .dataframe tbody tr th {\n",
       "        vertical-align: top;\n",
       "    }\n",
       "\n",
       "    .dataframe thead th {\n",
       "        text-align: right;\n",
       "    }\n",
       "</style>\n",
       "<table border=\"1\" class=\"dataframe\">\n",
       "  <thead>\n",
       "    <tr style=\"text-align: right;\">\n",
       "      <th></th>\n",
       "      <th>session_id</th>\n",
       "      <th>category_a</th>\n",
       "      <th>category_b</th>\n",
       "      <th>category_c</th>\n",
       "      <th>category_d</th>\n",
       "    </tr>\n",
       "  </thead>\n",
       "  <tbody>\n",
       "    <tr>\n",
       "      <th>count</th>\n",
       "      <td>66491</td>\n",
       "      <td>66491</td>\n",
       "      <td>66491</td>\n",
       "      <td>66491</td>\n",
       "      <td>66491</td>\n",
       "    </tr>\n",
       "    <tr>\n",
       "      <th>unique</th>\n",
       "      <td>30000</td>\n",
       "      <td>11</td>\n",
       "      <td>91</td>\n",
       "      <td>440</td>\n",
       "      <td>36092</td>\n",
       "    </tr>\n",
       "    <tr>\n",
       "      <th>top</th>\n",
       "      <td>u12532</td>\n",
       "      <td>A00002</td>\n",
       "      <td>B00002</td>\n",
       "      <td>C00007</td>\n",
       "      <td>D00266</td>\n",
       "    </tr>\n",
       "    <tr>\n",
       "      <th>freq</th>\n",
       "      <td>43</td>\n",
       "      <td>42801</td>\n",
       "      <td>15874</td>\n",
       "      <td>6064</td>\n",
       "      <td>161</td>\n",
       "    </tr>\n",
       "  </tbody>\n",
       "</table>\n",
       "</div>"
      ],
      "text/plain": [
       "       session_id category_a category_b category_c category_d\n",
       "count       66491      66491      66491      66491      66491\n",
       "unique      30000         11         91        440      36092\n",
       "top        u12532     A00002     B00002     C00007     D00266\n",
       "freq           43      42801      15874       6064        161"
      ]
     },
     "execution_count": 6,
     "metadata": {},
     "output_type": "execute_result"
    }
   ],
   "source": [
    "pr_df[['session_id','category_a','category_b','category_c','category_d']].describe()"
   ]
  },
  {
   "cell_type": "code",
   "execution_count": 5,
   "metadata": {},
   "outputs": [
    {
     "data": {
      "text/html": [
       "<div>\n",
       "<style scoped>\n",
       "    .dataframe tbody tr th:only-of-type {\n",
       "        vertical-align: middle;\n",
       "    }\n",
       "\n",
       "    .dataframe tbody tr th {\n",
       "        vertical-align: top;\n",
       "    }\n",
       "\n",
       "    .dataframe thead th {\n",
       "        text-align: right;\n",
       "    }\n",
       "</style>\n",
       "<table border=\"1\" class=\"dataframe\">\n",
       "  <thead>\n",
       "    <tr style=\"text-align: right;\">\n",
       "      <th></th>\n",
       "      <th>session_id</th>\n",
       "      <th>start_time</th>\n",
       "      <th>end_time</th>\n",
       "      <th>gender</th>\n",
       "    </tr>\n",
       "  </thead>\n",
       "  <tbody>\n",
       "    <tr>\n",
       "      <th>count</th>\n",
       "      <td>30000</td>\n",
       "      <td>30000</td>\n",
       "      <td>30000</td>\n",
       "      <td>15000</td>\n",
       "    </tr>\n",
       "    <tr>\n",
       "      <th>unique</th>\n",
       "      <td>30000</td>\n",
       "      <td>29754</td>\n",
       "      <td>29727</td>\n",
       "      <td>2</td>\n",
       "    </tr>\n",
       "    <tr>\n",
       "      <th>top</th>\n",
       "      <td>u21644</td>\n",
       "      <td>2014-12-09 14:51:16</td>\n",
       "      <td>2014-11-21 15:33:44</td>\n",
       "      <td>female</td>\n",
       "    </tr>\n",
       "    <tr>\n",
       "      <th>freq</th>\n",
       "      <td>1</td>\n",
       "      <td>3</td>\n",
       "      <td>3</td>\n",
       "      <td>11703</td>\n",
       "    </tr>\n",
       "  </tbody>\n",
       "</table>\n",
       "</div>"
      ],
      "text/plain": [
       "       session_id           start_time             end_time  gender\n",
       "count       30000                30000                30000   15000\n",
       "unique      30000                29754                29727       2\n",
       "top        u21644  2014-12-09 14:51:16  2014-11-21 15:33:44  female\n",
       "freq            1                    3                    3   11703"
      ]
     },
     "execution_count": 5,
     "metadata": {},
     "output_type": "execute_result"
    }
   ],
   "source": [
    "sn_df.describe()"
   ]
  },
  {
   "cell_type": "code",
   "execution_count": 7,
   "metadata": {},
   "outputs": [
    {
     "data": {
      "text/html": [
       "<div>\n",
       "<style scoped>\n",
       "    .dataframe tbody tr th:only-of-type {\n",
       "        vertical-align: middle;\n",
       "    }\n",
       "\n",
       "    .dataframe tbody tr th {\n",
       "        vertical-align: top;\n",
       "    }\n",
       "\n",
       "    .dataframe thead th {\n",
       "        text-align: right;\n",
       "    }\n",
       "</style>\n",
       "<table border=\"1\" class=\"dataframe\">\n",
       "  <thead>\n",
       "    <tr style=\"text-align: right;\">\n",
       "      <th></th>\n",
       "      <th>category_a</th>\n",
       "      <th>category_b</th>\n",
       "      <th>category_c</th>\n",
       "      <th>category_d</th>\n",
       "      <th>gender</th>\n",
       "    </tr>\n",
       "  </thead>\n",
       "  <tbody>\n",
       "    <tr>\n",
       "      <th>count</th>\n",
       "      <td>33455</td>\n",
       "      <td>33455</td>\n",
       "      <td>33455</td>\n",
       "      <td>33455</td>\n",
       "      <td>33455</td>\n",
       "    </tr>\n",
       "    <tr>\n",
       "      <th>unique</th>\n",
       "      <td>11</td>\n",
       "      <td>86</td>\n",
       "      <td>383</td>\n",
       "      <td>21880</td>\n",
       "      <td>2</td>\n",
       "    </tr>\n",
       "    <tr>\n",
       "      <th>top</th>\n",
       "      <td>A00002</td>\n",
       "      <td>B00002</td>\n",
       "      <td>C00007</td>\n",
       "      <td>D00266</td>\n",
       "      <td>female</td>\n",
       "    </tr>\n",
       "    <tr>\n",
       "      <th>freq</th>\n",
       "      <td>21370</td>\n",
       "      <td>8076</td>\n",
       "      <td>3028</td>\n",
       "      <td>89</td>\n",
       "      <td>26384</td>\n",
       "    </tr>\n",
       "  </tbody>\n",
       "</table>\n",
       "</div>"
      ],
      "text/plain": [
       "       category_a category_b category_c category_d  gender\n",
       "count       33455      33455      33455      33455   33455\n",
       "unique         11         86        383      21880       2\n",
       "top        A00002     B00002     C00007     D00266  female\n",
       "freq        21370       8076       3028         89   26384"
      ]
     },
     "execution_count": 7,
     "metadata": {},
     "output_type": "execute_result"
    }
   ],
   "source": [
    "df = pr_df.merge(sn_df,left_on='session_id',right_on='session_id',how='left')\n",
    "df = df.dropna()\n",
    "columns = ['category_a','category_b','category_c','category_d','gender']\n",
    "data = df[columns]\n",
    "data.describe()"
   ]
  },
  {
   "cell_type": "code",
   "execution_count": 8,
   "metadata": {},
   "outputs": [
    {
     "data": {
      "text/html": [
       "<div>\n",
       "<style scoped>\n",
       "    .dataframe tbody tr th:only-of-type {\n",
       "        vertical-align: middle;\n",
       "    }\n",
       "\n",
       "    .dataframe tbody tr th {\n",
       "        vertical-align: top;\n",
       "    }\n",
       "\n",
       "    .dataframe thead th {\n",
       "        text-align: right;\n",
       "    }\n",
       "</style>\n",
       "<table border=\"1\" class=\"dataframe\">\n",
       "  <thead>\n",
       "    <tr style=\"text-align: right;\">\n",
       "      <th></th>\n",
       "      <th>session_id</th>\n",
       "      <th>sequence_order</th>\n",
       "      <th>category_a</th>\n",
       "      <th>category_b</th>\n",
       "      <th>category_c</th>\n",
       "      <th>category_d</th>\n",
       "      <th>start_time</th>\n",
       "      <th>end_time</th>\n",
       "      <th>gender</th>\n",
       "    </tr>\n",
       "  </thead>\n",
       "  <tbody>\n",
       "    <tr>\n",
       "      <th>0</th>\n",
       "      <td>u10001</td>\n",
       "      <td>1</td>\n",
       "      <td>A00001</td>\n",
       "      <td>B00001</td>\n",
       "      <td>C00001</td>\n",
       "      <td>D00001</td>\n",
       "      <td>2014-11-14 00:02:14</td>\n",
       "      <td>2014-11-14 00:02:20</td>\n",
       "      <td>female</td>\n",
       "    </tr>\n",
       "    <tr>\n",
       "      <th>1</th>\n",
       "      <td>u10002</td>\n",
       "      <td>1</td>\n",
       "      <td>A00002</td>\n",
       "      <td>B00002</td>\n",
       "      <td>C00002</td>\n",
       "      <td>D24897</td>\n",
       "      <td>2014-12-12 14:12:05</td>\n",
       "      <td>2014-12-12 14:12:06</td>\n",
       "      <td>female</td>\n",
       "    </tr>\n",
       "    <tr>\n",
       "      <th>2</th>\n",
       "      <td>u10003</td>\n",
       "      <td>1</td>\n",
       "      <td>A00002</td>\n",
       "      <td>B00002</td>\n",
       "      <td>C00002</td>\n",
       "      <td>D00002</td>\n",
       "      <td>2014-11-14 00:02:41</td>\n",
       "      <td>2014-11-14 00:16:40</td>\n",
       "      <td>female</td>\n",
       "    </tr>\n",
       "    <tr>\n",
       "      <th>3</th>\n",
       "      <td>u10003</td>\n",
       "      <td>2</td>\n",
       "      <td>A00002</td>\n",
       "      <td>B00002</td>\n",
       "      <td>C00003</td>\n",
       "      <td>D00003</td>\n",
       "      <td>2014-11-14 00:02:41</td>\n",
       "      <td>2014-11-14 00:16:40</td>\n",
       "      <td>female</td>\n",
       "    </tr>\n",
       "    <tr>\n",
       "      <th>4</th>\n",
       "      <td>u10003</td>\n",
       "      <td>3</td>\n",
       "      <td>A00002</td>\n",
       "      <td>B00002</td>\n",
       "      <td>C00007</td>\n",
       "      <td>D00007</td>\n",
       "      <td>2014-11-14 00:02:41</td>\n",
       "      <td>2014-11-14 00:16:40</td>\n",
       "      <td>female</td>\n",
       "    </tr>\n",
       "  </tbody>\n",
       "</table>\n",
       "</div>"
      ],
      "text/plain": [
       "  session_id  sequence_order category_a category_b category_c category_d  \\\n",
       "0     u10001               1     A00001     B00001     C00001     D00001   \n",
       "1     u10002               1     A00002     B00002     C00002     D24897   \n",
       "2     u10003               1     A00002     B00002     C00002     D00002   \n",
       "3     u10003               2     A00002     B00002     C00003     D00003   \n",
       "4     u10003               3     A00002     B00002     C00007     D00007   \n",
       "\n",
       "            start_time             end_time  gender  \n",
       "0  2014-11-14 00:02:14  2014-11-14 00:02:20  female  \n",
       "1  2014-12-12 14:12:05  2014-12-12 14:12:06  female  \n",
       "2  2014-11-14 00:02:41  2014-11-14 00:16:40  female  \n",
       "3  2014-11-14 00:02:41  2014-11-14 00:16:40  female  \n",
       "4  2014-11-14 00:02:41  2014-11-14 00:16:40  female  "
      ]
     },
     "execution_count": 8,
     "metadata": {},
     "output_type": "execute_result"
    }
   ],
   "source": [
    "df.head()"
   ]
  },
  {
   "cell_type": "markdown",
   "metadata": {},
   "source": [
    "### Преобразуем данные из DataFrame data в численный формат\n",
    "1. female -- 0\n",
    "2. male -- 1"
   ]
  },
  {
   "cell_type": "code",
   "execution_count": 7,
   "metadata": {},
   "outputs": [
    {
     "data": {
      "text/html": [
       "<div>\n",
       "<style scoped>\n",
       "    .dataframe tbody tr th:only-of-type {\n",
       "        vertical-align: middle;\n",
       "    }\n",
       "\n",
       "    .dataframe tbody tr th {\n",
       "        vertical-align: top;\n",
       "    }\n",
       "\n",
       "    .dataframe thead th {\n",
       "        text-align: right;\n",
       "    }\n",
       "</style>\n",
       "<table border=\"1\" class=\"dataframe\">\n",
       "  <thead>\n",
       "    <tr style=\"text-align: right;\">\n",
       "      <th></th>\n",
       "      <th>category_a</th>\n",
       "      <th>category_b</th>\n",
       "      <th>category_c</th>\n",
       "      <th>category_d</th>\n",
       "      <th>gender</th>\n",
       "    </tr>\n",
       "  </thead>\n",
       "  <tbody>\n",
       "    <tr>\n",
       "      <th>0</th>\n",
       "      <td>1</td>\n",
       "      <td>1</td>\n",
       "      <td>1</td>\n",
       "      <td>1</td>\n",
       "      <td>0</td>\n",
       "    </tr>\n",
       "    <tr>\n",
       "      <th>1</th>\n",
       "      <td>2</td>\n",
       "      <td>2</td>\n",
       "      <td>2</td>\n",
       "      <td>24897</td>\n",
       "      <td>0</td>\n",
       "    </tr>\n",
       "    <tr>\n",
       "      <th>2</th>\n",
       "      <td>2</td>\n",
       "      <td>2</td>\n",
       "      <td>2</td>\n",
       "      <td>2</td>\n",
       "      <td>0</td>\n",
       "    </tr>\n",
       "    <tr>\n",
       "      <th>3</th>\n",
       "      <td>2</td>\n",
       "      <td>2</td>\n",
       "      <td>3</td>\n",
       "      <td>3</td>\n",
       "      <td>0</td>\n",
       "    </tr>\n",
       "    <tr>\n",
       "      <th>4</th>\n",
       "      <td>2</td>\n",
       "      <td>2</td>\n",
       "      <td>7</td>\n",
       "      <td>7</td>\n",
       "      <td>0</td>\n",
       "    </tr>\n",
       "  </tbody>\n",
       "</table>\n",
       "</div>"
      ],
      "text/plain": [
       "  category_a category_b category_c category_d gender\n",
       "0          1          1          1          1      0\n",
       "1          2          2          2      24897      0\n",
       "2          2          2          2          2      0\n",
       "3          2          2          3          3      0\n",
       "4          2          2          7          7      0"
      ]
     },
     "execution_count": 7,
     "metadata": {},
     "output_type": "execute_result"
    }
   ],
   "source": [
    "for col in range(0,data.shape[1]) :\n",
    "    for line in range(0,data.shape[0]) :\n",
    "        if col == 4 :\n",
    "            if data.values[line][col] == 'female' : data.values[line][col] = 0\n",
    "            elif data.values[line][col] == 'male' : data.values[line][col] = 1\n",
    "            continue\n",
    "        data.values[line][col] = int(data.values[line][col].lstrip('ABCD'))\n",
    "        \n",
    "data.head(5)"
   ]
  },
  {
   "cell_type": "code",
   "execution_count": 8,
   "metadata": {},
   "outputs": [
    {
     "data": {
      "text/plain": [
       "0    26384\n",
       "1     7071\n",
       "Name: gender, dtype: int64"
      ]
     },
     "execution_count": 8,
     "metadata": {},
     "output_type": "execute_result"
    }
   ],
   "source": [
    "data.gender.value_counts()"
   ]
  },
  {
   "cell_type": "markdown",
   "metadata": {},
   "source": [
    "### Deviding data into train, test datasets"
   ]
  },
  {
   "cell_type": "code",
   "execution_count": 9,
   "metadata": {},
   "outputs": [],
   "source": [
    "from sklearn.model_selection import train_test_split\n",
    "X = np.array(data[columns[0:4]])\n",
    "Y = np.array(data.gender)\n",
    "Y=Y.astype('int')\n",
    "X_train, X_test, Y_train, Y_test = train_test_split(X,Y,test_size=0.20)"
   ]
  },
  {
   "cell_type": "markdown",
   "metadata": {},
   "source": [
    "## Model Evaluation  <a id=\"1\"></a>"
   ]
  },
  {
   "cell_type": "markdown",
   "metadata": {},
   "source": [
    "### Импортируем библиотеки ML"
   ]
  },
  {
   "cell_type": "code",
   "execution_count": 10,
   "metadata": {},
   "outputs": [],
   "source": [
    "# import scikit-learn libraries\n",
    "%matplotlib inline\n",
    "from sklearn.linear_model import LogisticRegression\n",
    "from sklearn.metrics import accuracy_score, confusion_matrix, classification_report\n",
    "import matplotlib.pyplot as plt"
   ]
  },
  {
   "cell_type": "code",
   "execution_count": 11,
   "metadata": {},
   "outputs": [
    {
     "name": "stdout",
     "output_type": "stream",
     "text": [
      "(26764, 4) (26764,) (6691, 4) (6691,)\n"
     ]
    }
   ],
   "source": [
    "print(X_train.shape,Y_train.shape,X_test.shape,Y_test.shape)"
   ]
  },
  {
   "cell_type": "code",
   "execution_count": 12,
   "metadata": {},
   "outputs": [
    {
     "data": {
      "text/plain": [
       "LogisticRegression(C=1.0, class_weight=None, dual=False, fit_intercept=True,\n",
       "                   intercept_scaling=1, l1_ratio=None, max_iter=100,\n",
       "                   multi_class='auto', n_jobs=None, penalty='l2',\n",
       "                   random_state=None, solver='lbfgs', tol=0.0001, verbose=0,\n",
       "                   warm_start=False)"
      ]
     },
     "execution_count": 12,
     "metadata": {},
     "output_type": "execute_result"
    }
   ],
   "source": [
    "reg = LogisticRegression()\n",
    "reg.fit(X_train, Y_train)"
   ]
  },
  {
   "cell_type": "code",
   "execution_count": 13,
   "metadata": {},
   "outputs": [],
   "source": [
    "Y_pred = reg.predict(X_test)"
   ]
  },
  {
   "cell_type": "code",
   "execution_count": 14,
   "metadata": {},
   "outputs": [
    {
     "name": "stdout",
     "output_type": "stream",
     "text": [
      "[[5152  149]\n",
      " [1081  309]]\n"
     ]
    }
   ],
   "source": [
    "print(confusion_matrix(Y_test, Y_pred))"
   ]
  },
  {
   "cell_type": "code",
   "execution_count": 15,
   "metadata": {},
   "outputs": [
    {
     "name": "stdout",
     "output_type": "stream",
     "text": [
      "              precision    recall  f1-score   support\n",
      "\n",
      "           0       0.83      0.97      0.89      5301\n",
      "           1       0.67      0.22      0.33      1390\n",
      "\n",
      "    accuracy                           0.82      6691\n",
      "   macro avg       0.75      0.60      0.61      6691\n",
      "weighted avg       0.80      0.82      0.78      6691\n",
      "\n"
     ]
    }
   ],
   "source": [
    "print(classification_report(Y_test, Y_pred))"
   ]
  },
  {
   "cell_type": "markdown",
   "metadata": {},
   "source": [
    "# Predicting a gender for a random session_id <a id=\"2\"></a>\n"
   ]
  },
  {
   "cell_type": "markdown",
   "metadata": {},
   "source": [
    "## Preparing data for prediction"
   ]
  },
  {
   "cell_type": "code",
   "execution_count": 17,
   "metadata": {},
   "outputs": [],
   "source": [
    "id = 'u25001'"
   ]
  },
  {
   "cell_type": "code",
   "execution_count": 26,
   "metadata": {},
   "outputs": [],
   "source": [
    "def data_for_gender_prediction(id):\n",
    "    ex=pr_df[pr_df.session_id==id]\n",
    "    ex1=ex.iloc[:,2:6]\n",
    "    ex_size=ex1.shape\n",
    "    for i in range(0,ex_size[0]):\n",
    "        for j in range(0,ex_size[1]):\n",
    "            ex1.values[i][j]= ex1.values[i][j].lstrip('ABCD')\n",
    "    return ex1"
   ]
  },
  {
   "cell_type": "code",
   "execution_count": 27,
   "metadata": {},
   "outputs": [
    {
     "data": {
      "text/html": [
       "<div>\n",
       "<style scoped>\n",
       "    .dataframe tbody tr th:only-of-type {\n",
       "        vertical-align: middle;\n",
       "    }\n",
       "\n",
       "    .dataframe tbody tr th {\n",
       "        vertical-align: top;\n",
       "    }\n",
       "\n",
       "    .dataframe thead th {\n",
       "        text-align: right;\n",
       "    }\n",
       "</style>\n",
       "<table border=\"1\" class=\"dataframe\">\n",
       "  <thead>\n",
       "    <tr style=\"text-align: right;\">\n",
       "      <th></th>\n",
       "      <th>category_a</th>\n",
       "      <th>category_b</th>\n",
       "      <th>category_c</th>\n",
       "      <th>category_d</th>\n",
       "    </tr>\n",
       "  </thead>\n",
       "  <tbody>\n",
       "    <tr>\n",
       "      <th>33455</th>\n",
       "      <td>00002</td>\n",
       "      <td>00003</td>\n",
       "      <td>00046</td>\n",
       "      <td>01169</td>\n",
       "    </tr>\n",
       "    <tr>\n",
       "      <th>33456</th>\n",
       "      <td>00002</td>\n",
       "      <td>00002</td>\n",
       "      <td>00003</td>\n",
       "      <td>01457</td>\n",
       "    </tr>\n",
       "    <tr>\n",
       "      <th>33457</th>\n",
       "      <td>00002</td>\n",
       "      <td>00003</td>\n",
       "      <td>00014</td>\n",
       "      <td>01478</td>\n",
       "    </tr>\n",
       "  </tbody>\n",
       "</table>\n",
       "</div>"
      ],
      "text/plain": [
       "      category_a category_b category_c category_d\n",
       "33455      00002      00003      00046      01169\n",
       "33456      00002      00002      00003      01457\n",
       "33457      00002      00003      00014      01478"
      ]
     },
     "execution_count": 27,
     "metadata": {},
     "output_type": "execute_result"
    }
   ],
   "source": [
    "ex_data=data_for_gender_prediction(id)\n",
    "ex_data"
   ]
  },
  {
   "cell_type": "markdown",
   "metadata": {},
   "source": [
    "## Prediction of gender"
   ]
  },
  {
   "cell_type": "code",
   "execution_count": 28,
   "metadata": {},
   "outputs": [],
   "source": [
    "def predict_function(ex_data): \n",
    "    pred_ex=reg.predict(ex_data)\n",
    "    print(pred_ex)\n",
    "    count_1=0\n",
    "    count_0=0\n",
    "    for b in pred_ex:\n",
    "        if b==0:\n",
    "            count_0=count_0+1\n",
    "        else:\n",
    "            count_1=count_1+1\n",
    "\n",
    "    if count_0>count_1:\n",
    "            gender_ex='male'\n",
    "    else:\n",
    "            gender_ex='female'\n",
    "    return gender_ex"
   ]
  },
  {
   "cell_type": "code",
   "execution_count": 29,
   "metadata": {},
   "outputs": [
    {
     "name": "stdout",
     "output_type": "stream",
     "text": [
      "[0 0 0]\n",
      "male\n"
     ]
    }
   ],
   "source": [
    "g=predict_function(ex_data)\n",
    "print(g)"
   ]
  },
  {
   "cell_type": "markdown",
   "metadata": {},
   "source": [
    "# Saving model"
   ]
  },
  {
   "cell_type": "code",
   "execution_count": 37,
   "metadata": {},
   "outputs": [
    {
     "data": {
      "text/plain": [
       "['/Users/Vera/Downloads/final_logreg_model.sav']"
      ]
     },
     "execution_count": 37,
     "metadata": {},
     "output_type": "execute_result"
    }
   ],
   "source": [
    "from sklearn.externals import joblib\n",
    "\n",
    "filename = '/Users/Vera/Downloads/final_logreg_model.sav'\n",
    "joblib.dump(reg, filename)"
   ]
  },
  {
   "cell_type": "code",
   "execution_count": 38,
   "metadata": {},
   "outputs": [
    {
     "name": "stdout",
     "output_type": "stream",
     "text": [
      "0.816170975937827\n"
     ]
    }
   ],
   "source": [
    "loaded_model = joblib.load(filename)\n",
    "result = loaded_model.score(X_test, Y_test)\n",
    "print(result)"
   ]
  },
  {
   "cell_type": "code",
   "execution_count": null,
   "metadata": {},
   "outputs": [],
   "source": []
  }
 ],
 "metadata": {
  "kernelspec": {
   "display_name": "Python 3",
   "language": "python",
   "name": "python3"
  },
  "language_info": {
   "codemirror_mode": {
    "name": "ipython",
    "version": 3
   },
   "file_extension": ".py",
   "mimetype": "text/x-python",
   "name": "python",
   "nbconvert_exporter": "python",
   "pygments_lexer": "ipython3",
   "version": "3.7.6"
  }
 },
 "nbformat": 4,
 "nbformat_minor": 4
}
